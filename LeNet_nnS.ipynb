{
 "cells": [
  {
   "cell_type": "code",
   "execution_count": 1,
   "metadata": {
    "collapsed": false
   },
   "outputs": [
    {
     "name": "stderr",
     "output_type": "stream",
     "text": [
      "/Library/Python/2.7/site-packages/ipykernel/pylab/config.py:85: DeprecationWarning: metadata {'config': True} was set from the constructor.  Metadata should be set using the .tag() method, e.g., Int().tag(key1='value1', key2='value2')\n",
      "  use `figure_formats` instead)\"\"\")\n",
      "/Library/Python/2.7/site-packages/ipykernel/pylab/config.py:114: DeprecationWarning: metadata {'config': True} was set from the constructor.  Metadata should be set using the .tag() method, e.g., Int().tag(key1='value1', key2='value2')\n",
      "  \"\"\")\n"
     ]
    }
   ],
   "source": [
    "import numpy as np\n",
    "import caffe\n",
    "import scipy.io\n",
    "import pickle\n",
    "import matplotlib.pyplot as plt, mpld3\n",
    "%matplotlib inline"
   ]
  },
  {
   "cell_type": "code",
   "execution_count": 2,
   "metadata": {
    "collapsed": true
   },
   "outputs": [],
   "source": [
    "# Load the model and saved weights\n",
    "caffe_root = './'  # this file is expected to be in {caffe_root}\n",
    "caffe.set_mode_cpu()\n",
    "net = caffe.Net(caffe_root + 'examples/mnist/lenet_train_test.prototxt',\n",
    "                caffe_root + 'examples/mnist/lenet_iter_10000.caffemodel',\n",
    "                caffe.TEST)"
   ]
  },
  {
   "cell_type": "code",
   "execution_count": 3,
   "metadata": {
    "collapsed": false
   },
   "outputs": [],
   "source": [
    "# Save the weights to a mat file\n",
    "\n",
    "mdict = {}\n",
    "for lyr in net.params:\n",
    "    mdict[lyr] = net.params[lyr][0].data\n",
    "    \n",
    "mdict_top = {}\n",
    "mdict_top['Weights'] = mdict\n",
    "ModelSizeOrig = 1722704\n",
    "\n",
    "WeightMat = 'LeNet_weights.mat'\n",
    "scipy.io.savemat(WeightMat, mdict_top)"
   ]
  },
  {
   "cell_type": "code",
   "execution_count": 4,
   "metadata": {
    "collapsed": true
   },
   "outputs": [],
   "source": [
    "# Some helper functions\n",
    "\n",
    "def dumpExpt(Expt):\n",
    "    ExptMat = Expt['ExptMat']\n",
    "    Expt_top = {}\n",
    "    Expt_top['Expt'] = Expt\n",
    "    scipy.io.savemat(ExptMat, Expt_top)\n",
    "    \n",
    "def populate(Expt, prefix):\n",
    "    Expt['ExptMat'] = prefix + '_' + Expt['name'] + '.mat'\n",
    "    Expt['OutMat']  = prefix + '_' + Expt['name'] + '_SparseWeights.mat'\n",
    "    Expt['ResMat']  = prefix + '_' + Expt['name'] + '_results.pkl'\n",
    "\n",
    "def getW(matW):\n",
    "    W = {}\n",
    "    for lyr in matW._fieldnames:\n",
    "        W[lyr] = getattr(matW, lyr)\n",
    "    return W\n",
    "\n",
    "def getWeightsAndSizes(Expt):\n",
    "    OutMat = Expt['OutMat']\n",
    "    Sprf = scipy.io.loadmat(OutMat, struct_as_record=False)\n",
    "    sprfW_arr = list(Sprf['SparseWeights'][0])\n",
    "    size_arr = Sprf['ModelSizes'][0]\n",
    "    for trialNum in range(len(Expt['Trials'])):\n",
    "        matW = sprfW_arr[trialNum][0][0]\n",
    "        W = getW(matW)\n",
    "        Expt['Trials'][trialNum]['SparseWeights'] = W\n",
    "        Expt['Trials'][trialNum]['size'] = size_arr[trialNum]\n",
    "        \n",
    "def addTrials(Expt):\n",
    "    Trials = []\n",
    "    for xVar in Expt['xVars']:\n",
    "        trial = {}\n",
    "        trial['xVar'] = xVar\n",
    "        Trials.append(trial)\n",
    "    Expt['Trials'] = Trials\n",
    "    \n",
    "def dumpResults(Expt):\n",
    "    filename = Expt['ResMat']\n",
    "    output = open(filename, 'wb')\n",
    "    pickle.dump(Expt, output)\n",
    "    output.close()"
   ]
  },
  {
   "cell_type": "code",
   "execution_count": 5,
   "metadata": {
    "collapsed": false
   },
   "outputs": [],
   "source": [
    "# Design experiments and save the parameters to a mat file\n",
    "\n",
    "prefix = 'LeNet'\n",
    "\n",
    "# Experiment 1\n",
    "Expt1 = {}\n",
    "Expt1['name'] = 'Expt1'\n",
    "Expt1['mode'] = 'dropLow'\n",
    "Expt1['xVar_interp'] = 'Drop bottom xVar fraction overall'\n",
    "step = 0.1\n",
    "xVars = np.arange(0, 0.9, step)\n",
    "Expt1['xVars'] = xVars\n",
    "\n",
    "\n",
    "# Experiment 2\n",
    "Expt2 = {}\n",
    "Expt2['name'] = 'Expt2'\n",
    "Expt2['mode'] = 'dropOutputwise'\n",
    "Expt2['xVar_interp'] = 'Drop bottom xVar fraction outputwise'\n",
    "step = 0.1\n",
    "xVars = np.arange(0, 0.9, step)\n",
    "Expt2['xVars'] = xVars\n",
    "\n",
    "\n",
    "# Experiment 3\n",
    "Expt3 = {}\n",
    "Expt3['name'] = 'Expt3'\n",
    "Expt3['mode'] = 'LowRank_incoh'\n",
    "Expt3['xVar_interp'] = 'incoherence'\n",
    "step = 10\n",
    "xVars = np.arange(10, 100 + step/2, step)\n",
    "Expt3['xVars'] = xVars\n",
    "\n",
    "\n",
    "# Experiment 4\n",
    "Expt4 = {}\n",
    "Expt4['name'] = 'Expt4'\n",
    "Expt4['mode'] = 'LowRankSparse'\n",
    "Expt4['xVar_interp'] = 'Maximum rank of the low rank component'\n",
    "step = 10\n",
    "xVars = np.arange(10, 100 + step/2, step)\n",
    "Expt4['xVars'] = xVars\n",
    "\n",
    "# Experiment 5\n",
    "Expt5 = {}\n",
    "Expt5['name'] = 'Expt5'\n",
    "Expt5['mode'] = 'LowRank'\n",
    "Expt5['xVar_interp'] = 'Maximum rank of the low rank component'\n",
    "step = 10\n",
    "xVars = np.arange(10, 100 + step/2, step)\n",
    "Expt5['xVars'] = xVars\n",
    "\n",
    "# Experiment 6\n",
    "Expt6 = {}\n",
    "Expt6['name'] = 'Expt6'\n",
    "Expt6['mode'] = 'quantize'\n",
    "Expt6['xVar_interp'] = 'Bits to store each element'\n",
    "xVars = [1, 2, 4, 8, 16, 32]\n",
    "Expt6['xVars'] = xVars\n",
    "\n",
    "# Experiment 7\n",
    "Expt7 = {}\n",
    "Expt7['name'] = 'Expt7'\n",
    "Expt7['mode'] = 'LowRankSparseQuantizeBoth'\n",
    "Expt7['xVar_interp'] = 'Maximum rank of the low rank component'\n",
    "step = 10\n",
    "xVars = np.arange(10, 100 + step/2, step)\n",
    "Expt7['xVars'] = xVars"
   ]
  },
  {
   "cell_type": "code",
   "execution_count": 6,
   "metadata": {
    "collapsed": true
   },
   "outputs": [],
   "source": [
    "Expts = [Expt1, Expt2]\n",
    "for Expt in Expts:\n",
    "    addTrials(Expt)\n",
    "    populate(Expt, prefix)\n",
    "    dumpExpt(Expt)"
   ]
  },
  {
   "cell_type": "code",
   "execution_count": 7,
   "metadata": {
    "collapsed": false
   },
   "outputs": [
    {
     "name": "stdout",
     "output_type": "stream",
     "text": [
      "Expt1\n",
      "Expt2\n"
     ]
    }
   ],
   "source": [
    "# Start matlab\n",
    "import matlab.engine\n",
    "# import StringIO\n",
    "# out = StringIO.StringIO()\n",
    "eng = matlab.engine.start_matlab()\n",
    "eng.eval(\"cd ../caffe\",nargout=0)\n",
    "\n",
    "# Sparsify for each experiment and save in OutMat file\n",
    "for Expt in Expts:\n",
    "    print(Expt['name'])\n",
    "    ExptMat = Expt['ExptMat']\n",
    "    OutMat = Expt['OutMat']    \n",
    "    eng.Sparsify_main(WeightMat, ExptMat, OutMat, nargout = 0)\n",
    "\n",
    "# Quit matlab\n",
    "eng.quit()"
   ]
  },
  {
   "cell_type": "code",
   "execution_count": 8,
   "metadata": {
    "collapsed": false
   },
   "outputs": [],
   "source": [
    "# Load the sparsified weights\n",
    "for Expt in Expts:\n",
    "    getWeightsAndSizes(Expt)"
   ]
  },
  {
   "cell_type": "code",
   "execution_count": 9,
   "metadata": {
    "collapsed": false
   },
   "outputs": [
    {
     "name": "stdout",
     "output_type": "stream",
     "text": [
      "\n",
      "Expt1\n",
      "0.0 0.991100005507\n",
      "0.1 0.990800005794\n",
      "0.2 0.991200005412\n",
      "0.3 0.991100005507\n",
      "0.4 0.991400005221\n",
      "0.5 0.990300006866\n",
      "0.6 0.989100006819\n",
      "0.7 0.985000006557\n",
      "0.8 0.967500005364\n",
      "0.9 0.662300002277\n",
      "\n",
      "Expt2\n",
      "0.0 0.991100005507\n",
      "0.1 0.991000005603\n",
      "0.2 0.991200005412\n",
      "0.3 0.991100004315\n",
      "0.4 0.991200003028\n",
      "0.5 0.990700006485\n",
      "0.6 0.990100005865\n",
      "0.7 0.982900007963\n",
      "0.8 0.946000002027\n",
      "0.9 0.537199997306\n"
     ]
    }
   ],
   "source": [
    "# Compute accuracy for each trial in each experiment\n",
    "for Expt in Expts: \n",
    "    print('\\n' + Expt['name'])\n",
    "    for trial in Expt['Trials']:        \n",
    "        print trial['xVar'],\n",
    "        for lyr in net.params:\n",
    "            net.params[lyr][0].data[...] = trial['SparseWeights'][lyr]\n",
    "            \n",
    "        acc_arr = []\n",
    "        for i in range(100):\n",
    "            acc = net.forward()['accuracy']\n",
    "            acc_arr.append(float(acc))\n",
    "            \n",
    "        trial['acc_arr'] = acc_arr\n",
    "        trial['accuracy'] = np.mean(np.asarray(acc_arr))\n",
    "        print trial['accuracy']\n",
    "    Expt['accuracies'] = [trial['accuracy'] for trial in Expt['Trials']]"
   ]
  },
  {
   "cell_type": "code",
   "execution_count": 10,
   "metadata": {
    "collapsed": true
   },
   "outputs": [],
   "source": [
    "# Save results to a pickle file\n",
    "for Expt in Expts:\n",
    "    dumpResults(Expt)"
   ]
  },
  {
   "cell_type": "code",
   "execution_count": 11,
   "metadata": {
    "collapsed": false
   },
   "outputs": [],
   "source": [
    "# Multiple plots, accuracy vs vs xVar\n",
    "\n",
    "# plt.figure()\n",
    "# plt.hold(True)\n",
    "# Plot_handles = []\n",
    "# for Expt in Expts[0:2]:\n",
    "#     Plot_handles.append(plt.plot(Expt['xVars'], Expt['accuracy'], label = Expt['name'])[0])\n",
    "\n",
    "# legends = [Expt['mode'] for Expt in Expts]\n",
    "# plt.legend(Plot_handles, legends, loc = 'lower left')"
   ]
  },
  {
   "cell_type": "code",
   "execution_count": 12,
   "metadata": {
    "collapsed": false
   },
   "outputs": [],
   "source": [
    "# Single plot accuracy vs xVar\n",
    "\n",
    "# fig = plt.figure()\n",
    "# fig = plt.plot(Expt['xVars'], Expt['accuracy'], label = Expt['name'])[0]\n",
    "# ax = fig.axes.set_xlabel(Expts[0]['xVar_interp'])\n",
    "# ax = fig.axes.set_ylabel('accuracy')"
   ]
  },
  {
   "cell_type": "code",
   "execution_count": 14,
   "metadata": {
    "collapsed": false
   },
   "outputs": [
    {
     "data": {
      "image/png": "[encoded data removed]",
      "text/plain": [
       "<matplotlib.figure.Figure at 0x10112999f90>"
      ]
     },
     "metadata": {},
     "output_type": "display_data"
    },
    {
     "data": {
      "image/png": "[encoded data removed]",
      "text/plain": [
       "<matplotlib.figure.Figure at 0x1010c225b10>"
      ]
     },
     "metadata": {},
     "output_type": "display_data"
    }
   ],
   "source": [
    "# Single plot accuracy vs size\n",
    "\n",
    "# mpld3.enable_notebook()\n",
    "# mpld3.disable_notebook()\n",
    "\n",
    "for Expt in Expts:\n",
    "    CompRatio = [(ModelSizeOrig*1.0)/trial['size'] for trial in Expt['Trials']]\n",
    "    fig = plt.figure()\n",
    "    fig = plt.scatter(CompRatio[:-1], Expt['accuracies'][:-1], label = Expt['name'])\n",
    "    ax = fig.axes.set_xlabel('Compression Ratio')\n",
    "    ax = fig.axes.set_ylabel('accuracy')"
   ]
  },
  {
   "cell_type": "code",
   "execution_count": null,
   "metadata": {
    "collapsed": true
   },
   "outputs": [],
   "source": []
  }
 ],
 "metadata": {
  "kernelspec": {
   "display_name": "Python 2",
   "language": "python",
   "name": "python2"
  },
  "language_info": {
   "codemirror_mode": {
    "name": "ipython",
    "version": 2
   },
   "file_extension": ".py",
   "mimetype": "text/x-python",
   "name": "python",
   "nbconvert_exporter": "python",
   "pygments_lexer": "ipython2",
   "version": "2.7.11"
  }
 },
 "nbformat": 4,
 "nbformat_minor": 0
}
