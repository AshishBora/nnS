{
 "cells": [
  {
   "cell_type": "code",
   "execution_count": null,
   "metadata": {
    "collapsed": false
   },
   "outputs": [],
   "source": [
    "import numpy as np\n",
    "import caffe\n",
    "\n",
    "caffe_root = './'  # this file is expected to be in {caffe_root}"
   ]
  },
  {
   "cell_type": "code",
   "execution_count": null,
   "metadata": {
    "collapsed": true
   },
   "outputs": [],
   "source": [
    "caffe.set_mode_cpu()\n",
    "net = caffe.Net(caffe_root + 'examples/mnist/lenet_train_test.prototxt',\n",
    "                caffe_root + 'examples/mnist/lenet_iter_10000.caffemodel',\n",
    "                caffe.TEST)"
   ]
  },
  {
   "cell_type": "code",
   "execution_count": null,
   "metadata": {
    "collapsed": false
   },
   "outputs": [],
   "source": [
    "# import scipy.io\n",
    "\n",
    "# mdict = {}\n",
    "# for lyr in net.params:\n",
    "#     mdict['Wval' + lyr] = net.params[lyr][0].data\n",
    "\n",
    "# scipy.io.savemat('ToMatlab.mat', mdict)"
   ]
  },
  {
   "cell_type": "code",
   "execution_count": null,
   "metadata": {
    "collapsed": true
   },
   "outputs": [],
   "source": [
    "import copy\n",
    "\n",
    "W = {}\n",
    "b = {}\n",
    "for lyr in net.params:\n",
    "    W[lyr] = copy.deepcopy(net.params[lyr][0].data)\n",
    "    b[lyr] = copy.deepcopy(net.params[lyr][1].data)"
   ]
  },
  {
   "cell_type": "code",
   "execution_count": null,
   "metadata": {
    "collapsed": false
   },
   "outputs": [],
   "source": [
    "from nnS_lib import *\n",
    "step = 0.1\n",
    "P = np.arange(0, 1 + step/2, step)\n",
    "\n",
    "Acc = []\n",
    "for p in P:\n",
    "    print p, \n",
    "    for lyr in net.params:\n",
    "        net.params[lyr][0].data[...] = dropOutputwise(W[lyr], p)\n",
    "        #    net.params[lyr][1].data[...] = dropLow(b[lyr], p)\n",
    "    acc = []\n",
    "    for i in range(100):\n",
    "        temp = net.forward()['accuracy']\n",
    "        acc.append(float(temp))\n",
    "    Acc_p = np.mean(np.asarray(acc))\n",
    "    Acc.append(Acc_p)\n",
    "    print Acc_p"
   ]
  },
  {
   "cell_type": "code",
   "execution_count": null,
   "metadata": {
    "collapsed": false
   },
   "outputs": [],
   "source": [
    "import matplotlib.pyplot as plt, mpld3\n",
    "\n",
    "%matplotlib inline\n",
    "# mpld3.enable_notebook()\n",
    "# mpld3.disable_notebook()\n",
    "fig = plt.figure()\n",
    "fig = plt.plot(P, Acc)"
   ]
  }
 ],
 "metadata": {
  "kernelspec": {
   "display_name": "Python 2",
   "language": "python",
   "name": "python2"
  },
  "language_info": {
   "codemirror_mode": {
    "name": "ipython",
    "version": 2
   },
   "file_extension": ".py",
   "mimetype": "text/x-python",
   "name": "python",
   "nbconvert_exporter": "python",
   "pygments_lexer": "ipython2",
   "version": "2.7.11"
  }
 },
 "nbformat": 4,
 "nbformat_minor": 0
}
