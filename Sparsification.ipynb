{
 "cells": [
  {
   "cell_type": "code",
   "execution_count": null,
   "metadata": {
    "collapsed": true
   },
   "outputs": [],
   "source": [
    "# Sparsification code\n",
    "\n",
    "import copy\n",
    "\n",
    "W = {}\n",
    "b = {}\n",
    "for lyr in net.params:\n",
    "    W[lyr] = copy.deepcopy(net.params[lyr][0].data)\n",
    "    b[lyr] = copy.deepcopy(net.params[lyr][1].data)\n",
    "\n",
    "    \n",
    "from nnS_lib import *\n",
    "p = 0.1\n",
    "for lyr in net.params:\n",
    "    net.params[lyr][0].data[...] = dropLow(W[lyr], p)\n",
    "#    net.params[lyr][1].data[...] = dropLow(b[lyr], p)"
   ]
  }
 ],
 "metadata": {
  "kernelspec": {
   "display_name": "Python 2",
   "language": "python",
   "name": "python2"
  },
  "language_info": {
   "codemirror_mode": {
    "name": "ipython",
    "version": 2
   },
   "file_extension": ".py",
   "mimetype": "text/x-python",
   "name": "python",
   "nbconvert_exporter": "python",
   "pygments_lexer": "ipython2",
   "version": "2.7.11"
  }
 },
 "nbformat": 4,
 "nbformat_minor": 0
}
