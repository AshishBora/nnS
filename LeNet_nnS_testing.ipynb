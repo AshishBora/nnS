{
 "cells": [
  {
   "cell_type": "code",
   "execution_count": 2,
   "metadata": {
    "collapsed": false
   },
   "outputs": [
    {
     "name": "stderr",
     "output_type": "stream",
     "text": [
      "/Library/Python/2.7/site-packages/ipykernel/pylab/config.py:85: DeprecationWarning: metadata {'config': True} was set from the constructor.  Metadata should be set using the .tag() method, e.g., Int().tag(key1='value1', key2='value2')\n",
      "  use `figure_formats` instead)\"\"\")\n",
      "/Library/Python/2.7/site-packages/ipykernel/pylab/config.py:114: DeprecationWarning: metadata {'config': True} was set from the constructor.  Metadata should be set using the .tag() method, e.g., Int().tag(key1='value1', key2='value2')\n",
      "  \"\"\")\n"
     ]
    }
   ],
   "source": [
    "from nnS_lib import *\n",
    "import matplotlib.pyplot as plt, mpld3\n",
    "%matplotlib inline"
   ]
  },
  {
   "cell_type": "code",
   "execution_count": 3,
   "metadata": {
    "collapsed": true
   },
   "outputs": [],
   "source": [
    "def showResults(Expts, ModelSizeOrig):\n",
    "    # mpld3.enable_notebook()\n",
    "    # mpld3.disable_notebook()\n",
    "    for Expt in Expts:\n",
    "        CompRatio = [(ModelSizeOrig*1.0)/trial['size'] for trial in Expt['Trials']]\n",
    "        fig = plt.figure()\n",
    "        fig = plt.scatter(CompRatio, Expt['accuracies'], label = Expt['name'])\n",
    "        ax = fig.axes.set_xlabel('Compression Ratio')\n",
    "        ax = fig.axes.set_ylabel('accuracy')"
   ]
  },
  {
   "cell_type": "code",
   "execution_count": 4,
   "metadata": {
    "collapsed": true
   },
   "outputs": [],
   "source": [
    "# Load the trained model and saved weights\n",
    "\n",
    "caffe_root = './'  # this file is expected to be in {caffe_root}\n",
    "caffe.set_mode_cpu()\n",
    "net = caffe.Net(caffe_root + 'examples/mnist/lenet_train_test.prototxt',\n",
    "                caffe_root + 'examples/mnist/lenet_iter_10000.caffemodel',\n",
    "                caffe.TEST)"
   ]
  },
  {
   "cell_type": "code",
   "execution_count": 5,
   "metadata": {
    "collapsed": true
   },
   "outputs": [],
   "source": [
    "# Save the weights to a mat file - Done already\n",
    "\n",
    "# mdict = {}\n",
    "# for lyr in net.params:\n",
    "#     mdict[lyr] = net.params[lyr][0].data\n",
    "    \n",
    "# mdict_top = {}\n",
    "# mdict_top['Weights'] = mdict\n",
    "ModelSizeOrig = 1722704\n",
    "\n",
    "WeightMat = 'LeNet_weights.mat'\n",
    "# scipy.io.savemat(WeightMat, mdict_top)"
   ]
  },
  {
   "cell_type": "code",
   "execution_count": 6,
   "metadata": {
    "collapsed": false
   },
   "outputs": [],
   "source": [
    "# Design experiments and save the parameters to a mat file\n",
    "\n",
    "# Experiment 1\n",
    "Expt1 = {}\n",
    "Expt1['name'] = 'Expt1'\n",
    "Expt1['mode'] = 'dropLow'\n",
    "Expt1['xVar_interp'] = 'Drop bottom xVar fraction overall'\n",
    "Expt1['xVars'] = [0, 1]\n",
    "\n",
    "\n",
    "# Experiment 2\n",
    "Expt2 = {}\n",
    "Expt2['name'] = 'Expt2'\n",
    "Expt2['mode'] = 'dropOutputwise'\n",
    "Expt2['xVar_interp'] = 'Drop bottom xVar fraction outputwise'\n",
    "Expt2['xVars'] = [0, 1]\n",
    "\n",
    "\n",
    "# Experiment 3\n",
    "Expt3 = {}\n",
    "Expt3['name'] = 'Expt3'\n",
    "Expt3['mode'] = 'LowRank_incoh'\n",
    "Expt3['xVar_interp'] = 'incoherence'\n",
    "Expt3['xVars'] = [10, 100]\n",
    "\n",
    "\n",
    "# Experiment 4\n",
    "Expt4 = {}\n",
    "Expt4['name'] = 'Expt4'\n",
    "Expt4['mode'] = 'LowRankSparse'\n",
    "Expt4['xVar_interp'] = 'Maximum rank of the low rank component'\n",
    "Expt4['xVars'] = [10, 100]\n",
    "\n",
    "# Experiment 5\n",
    "Expt5 = {}\n",
    "Expt5['name'] = 'Expt5'\n",
    "Expt5['mode'] = 'LowRank'\n",
    "Expt5['xVar_interp'] = 'Maximum rank of the low rank component'\n",
    "Expt5['xVars'] = [10, 100]\n",
    "\n",
    "# Experiment 6\n",
    "Expt6 = {}\n",
    "Expt6['name'] = 'Expt6'\n",
    "Expt6['mode'] = 'quantize'\n",
    "Expt6['xVar_interp'] = 'Bits to store each element'\n",
    "Expt6['xVars'] = [4, 32]\n",
    "\n",
    "# Experiment 7\n",
    "Expt7 = {}\n",
    "Expt7['name'] = 'Expt7'\n",
    "Expt7['mode'] = 'LowRankSparseQuantizeBoth'\n",
    "Expt7['xVar_interp'] = 'Maximum rank of the low rank component'\n",
    "Expt7['xVars'] = [10, 100]"
   ]
  },
  {
   "cell_type": "code",
   "execution_count": 7,
   "metadata": {
    "collapsed": false
   },
   "outputs": [
    {
     "name": "stdout",
     "output_type": "stream",
     "text": [
      "Expt1\n",
      "Expt2\n",
      "\n",
      "Expt1\n",
      "0 0.991100005507\n",
      "1 0.0974000002816\n",
      "\n",
      "Expt2\n",
      "0 0.991100005507\n",
      "1 0.0974000002816\n"
     ]
    },
    {
     "data": {
      "image/png": "[encoded data removed]",
      "text/plain": [
       "<matplotlib.figure.Figure at 0x10fc48b10>"
      ]
     },
     "metadata": {},
     "output_type": "display_data"
    },
    {
     "data": {
      "image/png": "[encoded data removed]",
      "text/plain": [
       "<matplotlib.figure.Figure at 0x1011aa43e90>"
      ]
     },
     "metadata": {},
     "output_type": "display_data"
    }
   ],
   "source": [
    "# Expts = [Expt1, Expt2, Expt3, Expt4, Expt5, Expt6, Expt7]\n",
    "Expts = [Expt1, Expt2]\n",
    "prefix = 'test_LeNet'\n",
    "prepareExperiments(Expts, prefix)\n",
    "runExperiments(Expts, net, WeightMat)\n",
    "showResults(Expts, ModelSizeOrig)"
   ]
  }
 ],
 "metadata": {
  "kernelspec": {
   "display_name": "Python 2",
   "language": "python",
   "name": "python2"
  },
  "language_info": {
   "codemirror_mode": {
    "name": "ipython",
    "version": 2
   },
   "file_extension": ".py",
   "mimetype": "text/x-python",
   "name": "python",
   "nbconvert_exporter": "python",
   "pygments_lexer": "ipython2",
   "version": "2.7.11"
  }
 },
 "nbformat": 4,
 "nbformat_minor": 0
}
