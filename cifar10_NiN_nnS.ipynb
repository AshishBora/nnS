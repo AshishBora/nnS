{
 "cells": [
  {
   "cell_type": "code",
   "execution_count": 1,
   "metadata": {
    "collapsed": false
   },
   "outputs": [],
   "source": [
    "import numpy as np\n",
    "import caffe\n",
    "\n",
    "caffe_root = './'  # this file is expected to be in {caffe_root}"
   ]
  },
  {
   "cell_type": "code",
   "execution_count": 2,
   "metadata": {
    "collapsed": false
   },
   "outputs": [],
   "source": [
    "caffe.set_mode_cpu()\n",
    "net = caffe.Net(caffe_root + 'models/e56253735ef32c3c296d/train_val_mod.prototxt',\n",
    "                caffe_root + 'models/e56253735ef32c3c296d/cifar10_nin.caffemodel',\n",
    "                caffe.TEST)"
   ]
  },
  {
   "cell_type": "code",
   "execution_count": 3,
   "metadata": {
    "collapsed": false
   },
   "outputs": [],
   "source": [
    "import copy\n",
    "\n",
    "W = {}\n",
    "b = {}\n",
    "for lyr in net.params:\n",
    "    W[lyr] = copy.deepcopy(net.params[lyr][0].data)\n",
    "    b[lyr] = copy.deepcopy(net.params[lyr][1].data)"
   ]
  },
  {
   "cell_type": "code",
   "execution_count": 4,
   "metadata": {
    "collapsed": false
   },
   "outputs": [
    {
     "name": "stdout",
     "output_type": "stream",
     "text": [
      "0.0 0.895599999428\n",
      "0.1 0.881499999166\n",
      "0.2 0.87289999865\n",
      "0.3 0.873999996632\n",
      "0.4 0.868499998972\n",
      "0.5 0.862299999297\n",
      "0.6 0.795399997085\n",
      "0.7 0.719100000262\n",
      "0.8 0.285800000653\n",
      "0.9 0.116099999472\n",
      "1.0 0.100000000149\n"
     ]
    }
   ],
   "source": [
    "from nnS_lib import *\n",
    "step = 0.1\n",
    "P = np.arange(0, 1 + step/2, step)\n",
    "\n",
    "Acc = []\n",
    "for p in P:\n",
    "    print p, \n",
    "    for lyr in net.params:\n",
    "        net.params[lyr][0].data[...] = dropLow(W[lyr], p)\n",
    "        #    net.params[lyr][1].data[...] = dropLow(b[lyr], p)\n",
    "    acc = []\n",
    "    for i in range(100):\n",
    "        temp = net.forward()['accuracy']\n",
    "        acc.append(float(temp))\n",
    "    Acc_p = np.mean(np.asarray(acc))\n",
    "    Acc.append(Acc_p)\n",
    "    print Acc_p"
   ]
  },
  {
   "cell_type": "code",
   "execution_count": 8,
   "metadata": {
    "collapsed": false
   },
   "outputs": [
    {
     "data": {
      "text/plain": [
       "(0, 1)"
      ]
     },
     "execution_count": 8,
     "metadata": {},
     "output_type": "execute_result"
    },
    {
     "data": {
      "image/png": "[encoded data removed]",
      "text/plain": [
       "<matplotlib.figure.Figure at 0x12dc420d0>"
      ]
     },
     "metadata": {},
     "output_type": "display_data"
    }
   ],
   "source": [
    "import matplotlib.pyplot as plt, mpld3\n",
    "\n",
    "%matplotlib inline\n",
    "# mpld3.enable_notebook()\n",
    "# mpld3.disable_notebook()\n",
    "plt.figure()\n",
    "plt.plot(P, Acc)\n",
    "plt.ylim([0,1])"
   ]
  },
  {
   "cell_type": "code",
   "execution_count": null,
   "metadata": {
    "collapsed": true
   },
   "outputs": [],
   "source": []
  }
 ],
 "metadata": {
  "kernelspec": {
   "display_name": "Python 2",
   "language": "python",
   "name": "python2"
  },
  "language_info": {
   "codemirror_mode": {
    "name": "ipython",
    "version": 2
   },
   "file_extension": ".py",
   "mimetype": "text/x-python",
   "name": "python",
   "nbconvert_exporter": "python",
   "pygments_lexer": "ipython2",
   "version": "2.7.11"
  }
 },
 "nbformat": 4,
 "nbformat_minor": 0
}
